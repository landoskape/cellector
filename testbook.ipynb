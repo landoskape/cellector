{
 "cells": [
  {
   "cell_type": "code",
   "execution_count": 1,
   "metadata": {},
   "outputs": [],
   "source": [
    "%reload_ext autoreload\n",
    "%autoreload 2\n",
    "# %matplotlib qt\n",
    "\n",
    "from time import time\n",
    "from tqdm import tqdm\n",
    "from pathlib import Path\n",
    "\n",
    "import numpy as np\n",
    "from matplotlib import pyplot as plt\n",
    "import matplotlib as mpl\n",
    "\n",
    "from cellector.utils import get_s2p_data, get_s2p_redcell\n",
    "from cellector.roi_processor import RoiProcessor\n",
    "from cellector.gui import SelectionGUI"
   ]
  },
  {
   "cell_type": "code",
   "execution_count": 2,
   "metadata": {},
   "outputs": [],
   "source": [
    "# Gather suite2p data\n",
    "s2p_dir = Path(r\"C:\\Users\\Andrew\\Documents\\localData\\ATL027\\2023-07-28\\701\\suite2p\")\n",
    "stats, references = get_s2p_data(s2p_dir)\n",
    "red_s2p = get_s2p_redcell(s2p_dir)\n",
    "extra_features = {\"red_s2p\": red_s2p}\n",
    "\n",
    "# Create a redcell processing object\n",
    "rcp = RoiProcessor(stats, references, extra_features=extra_features)\n",
    "\n",
    "# Next step: \n",
    "# 1. Implement a saving method (and maybe a two way system for creating a red cell object ? from suite2p or from scratch)\n",
    "# 2. Visualization methods for optimizing the hyperparameters for preprocessing\n",
    "# 3. Implement an optimization method for phase_corr_eps? \n",
    "#    - Might just be as simple as the user inputing the maximum size ROI, and then measuring\n",
    "#      the average power for higher frequencies..."
   ]
  },
  {
   "cell_type": "code",
   "execution_count": 3,
   "metadata": {},
   "outputs": [],
   "source": [
    "gui = SelectionGUI(rcp)"
   ]
  },
  {
   "cell_type": "code",
   "execution_count": 27,
   "metadata": {},
   "outputs": [
    {
     "name": "stdout",
     "output_type": "stream",
     "text": [
      "{'name': 'Andii'}\n"
     ]
    }
   ],
   "source": [
    "class Pipeline:\n",
    "    def __init__(self, name, method, dependencies):\n",
    "        self.name = name\n",
    "        self.method = method\n",
    "        self.dependencies = dependencies\n",
    "\n",
    "pipeline = Pipeline(\"name\", lambda self: \"Andii\", [])\n",
    "\n",
    "class TestClass:\n",
    "    \"\"\"A class that collects and computes features using decorated methods.\"\"\"\n",
    "    \n",
    "    def __init__(self):\n",
    "        self.features = {}\n",
    "        self._feature_pipelines = []\n",
    "    \n",
    "    def register_pipeline(self, pipeline):\n",
    "        if not isinstance(pipeline, Pipeline):\n",
    "            raise ValueError(\"Pipeline must be an instance of Pipeline.\")\n",
    "        self._feature_pipelines.append(pipeline)\n",
    "    \n",
    "    def compute_features(self):\n",
    "        \"\"\"Compute all registered features and store results.\"\"\"\n",
    "        for pipeline in self._feature_pipelines:\n",
    "            self.features[pipeline.name] = pipeline.method(self)\n",
    "\n",
    "# Usage\n",
    "test = TestClass()\n",
    "test.register_pipeline(pipeline)\n",
    "test.compute_features()\n",
    "print(test.features)  # {'name': 'Andii', 'age': 21}"
   ]
  }
 ],
 "metadata": {
  "kernelspec": {
   "display_name": "vrAnalysis",
   "language": "python",
   "name": "python3"
  },
  "language_info": {
   "codemirror_mode": {
    "name": "ipython",
    "version": 3
   },
   "file_extension": ".py",
   "mimetype": "text/x-python",
   "name": "python",
   "nbconvert_exporter": "python",
   "pygments_lexer": "ipython3",
   "version": "3.9.19"
  }
 },
 "nbformat": 4,
 "nbformat_minor": 2
}
