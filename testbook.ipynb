{
 "cells": [
  {
   "cell_type": "code",
   "execution_count": 1,
   "metadata": {},
   "outputs": [],
   "source": [
    "%reload_ext autoreload\n",
    "%autoreload 2\n",
    "# %matplotlib qt\n",
    "\n",
    "from time import time\n",
    "from tqdm import tqdm\n",
    "from pathlib import Path\n",
    "\n",
    "import numpy as np\n",
    "from matplotlib import pyplot as plt\n",
    "import matplotlib as mpl\n",
    "\n",
    "from cellector.io import create_from_suite2p, save_selection\n",
    "from cellector.roi_processor import RoiProcessor\n",
    "from cellector.gui import SelectionGUI"
   ]
  },
  {
   "cell_type": "code",
   "execution_count": 21,
   "metadata": {},
   "outputs": [],
   "source": [
    "# Next step: \n",
    "# 1. Convert the roi_processor to just accept a list of stats and have a separate index for which plane they go with\n",
    "#    - also require the references to be a numpy array\n",
    "# 2. Visualization methods for optimizing the hyperparameters for preprocessing\n",
    "# 3. Implement an optimization method for phase_corr_eps? \n",
    "#    - Might just be as simple as the user inputing the maximum size ROI, and then measuring\n",
    "#      the average power for higher frequencies..."
   ]
  },
  {
   "cell_type": "code",
   "execution_count": 8,
   "metadata": {},
   "outputs": [],
   "source": [
    "s2p_dir = Path(r\"C:\\Users\\Andrew\\Documents\\test_cellector\\suite2p\")\n",
    "roi_processor = create_from_suite2p(s2p_dir, use_redcell=True, clear_existing=True)"
   ]
  },
  {
   "cell_type": "code",
   "execution_count": 20,
   "metadata": {},
   "outputs": [],
   "source": [
    "gui = SelectionGUI(roi_processor)"
   ]
  }
 ],
 "metadata": {
  "kernelspec": {
   "display_name": "vrAnalysis",
   "language": "python",
   "name": "python3"
  },
  "language_info": {
   "codemirror_mode": {
    "name": "ipython",
    "version": 3
   },
   "file_extension": ".py",
   "mimetype": "text/x-python",
   "name": "python",
   "nbconvert_exporter": "python",
   "pygments_lexer": "ipython3",
   "version": "3.9.19"
  }
 },
 "nbformat": 4,
 "nbformat_minor": 2
}
