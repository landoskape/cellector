{
 "cells": [
  {
   "cell_type": "code",
   "execution_count": 1,
   "metadata": {},
   "outputs": [],
   "source": [
    "%reload_ext autoreload\n",
    "%autoreload 2\n",
    "# %matplotlib qt\n",
    "\n",
    "from time import time\n",
    "from tqdm import tqdm\n",
    "from pathlib import Path\n",
    "\n",
    "import numpy as np\n",
    "from matplotlib import pyplot as plt\n",
    "import matplotlib as mpl\n",
    "\n",
    "from cellector.io import create_from_suite2p, save_selection\n",
    "from cellector.roi_processor import RoiProcessor\n",
    "from cellector.gui import SelectionGUI"
   ]
  },
  {
   "cell_type": "code",
   "execution_count": 7,
   "metadata": {},
   "outputs": [],
   "source": [
    "s2p_dir = Path(r\"C:\\Users\\Andrew\\Documents\\test_cellector\\suite2p\")\n",
    "roi_processor = create_from_suite2p(s2p_dir, use_redcell=True, clear_existing=True)"
   ]
  },
  {
   "cell_type": "code",
   "execution_count": 6,
   "metadata": {},
   "outputs": [
    {
     "name": "stdout",
     "output_type": "stream",
     "text": [
      "red_s2p [2.5576864e-07, 0.9875573] <class 'list'>\n",
      "[None, 0.9875573] [False, True]\n",
      "phase_corr [-0.12295520518103062, 0.4105598307681927] <class 'list'>\n",
      "[None, 0.4105598307681927] [False, True]\n",
      "dot_product [-66807.79264980495, 203016.05645847096] <class 'list'>\n",
      "[-66807.79264980495, 203016.05645847096] [True, True]\n",
      "corr_coef [-0.7663644687328549, 0.985466595444871] <class 'list'>\n",
      "[-0.7663644687328549, 0.985466595444871] [True, True]\n",
      "in_vs_out [0.0948887, 0.47972274] <class 'list'>\n",
      "[0.0948887, 0.47972274] [True, True]\n"
     ]
    }
   ],
   "source": [
    "gui = SelectionGUI(roi_processor)"
   ]
  },
  {
   "cell_type": "code",
   "execution_count": 36,
   "metadata": {},
   "outputs": [
    {
     "data": {
      "text/plain": [
       "{'red_s2p': array([2.5576864e-07, 9.8755729e-01], dtype=float32),\n",
       " 'phase_corr': array([0.01274831, 0.41055983]),\n",
       " 'dot_product': array([ 22337.56887429, 203016.05645847]),\n",
       " 'corr_coef': array([-0.76636447,  0.9854666 ]),\n",
       " 'in_vs_out': array([0.0948887 , 0.47972274], dtype=float32)}"
      ]
     },
     "execution_count": 36,
     "metadata": {},
     "output_type": "execute_result"
    }
   ],
   "source": [
    "gui.feature_cutoffs"
   ]
  },
  {
   "cell_type": "code",
   "execution_count": 5,
   "metadata": {},
   "outputs": [
    {
     "name": "stdout",
     "output_type": "stream",
     "text": [
      "(2,) [       nan 0.41055983]\n"
     ]
    },
    {
     "name": "stdout",
     "output_type": "stream",
     "text": [
      "red_s2p [2.5576864e-07 9.8755729e-01]\n",
      "[      nan 0.9875573] [False, True]\n",
      "phase_corr [0.01274831 0.41055983]\n",
      "[       nan 0.41055983] [False, True]\n",
      "dot_product [ 22337.56887429 203016.05645847]\n",
      "[22337.56887429            nan] [True, False]\n",
      "corr_coef [-0.76636447  0.9854666 ]\n",
      "[      nan 0.9854666] [False, True]\n",
      "in_vs_out [0.0948887  0.47972274]\n",
      "[       nan 0.47972274] [False, True]\n"
     ]
    }
   ],
   "source": [
    "check = np.load(s2p_dir / \"plane0\" / \"cellector\" / \"phase_corr_criteria.npy\")\n",
    "print(check.shape, check)"
   ]
  },
  {
   "cell_type": "code",
   "execution_count": 18,
   "metadata": {},
   "outputs": [],
   "source": [
    "manual_selection = np.stack((gui.manual_label, gui.manual_label_active)).T\n",
    "save_selection(gui.roi_processor, gui.idx_selected, gui.feature_cutoffs, manual_selection)\n",
    "gui.update_text(\"Selection saved!\")"
   ]
  },
  {
   "cell_type": "code",
   "execution_count": 2,
   "metadata": {},
   "outputs": [],
   "source": [
    "# Next step: \n",
    "# 1. Implement a saving method (and maybe a two way system for creating a red cell object ? from suite2p or from scratch)\n",
    "# 2. Visualization methods for optimizing the hyperparameters for preprocessing\n",
    "# 3. Implement an optimization method for phase_corr_eps? \n",
    "#    - Might just be as simple as the user inputing the maximum size ROI, and then measuring\n",
    "#      the average power for higher frequencies..."
   ]
  },
  {
   "cell_type": "code",
   "execution_count": 5,
   "metadata": {},
   "outputs": [],
   "source": [
    "gui = SelectionGUI(roi_processor)"
   ]
  }
 ],
 "metadata": {
  "kernelspec": {
   "display_name": "vrAnalysis",
   "language": "python",
   "name": "python3"
  },
  "language_info": {
   "codemirror_mode": {
    "name": "ipython",
    "version": 3
   },
   "file_extension": ".py",
   "mimetype": "text/x-python",
   "name": "python",
   "nbconvert_exporter": "python",
   "pygments_lexer": "ipython3",
   "version": "3.9.19"
  }
 },
 "nbformat": 4,
 "nbformat_minor": 2
}
