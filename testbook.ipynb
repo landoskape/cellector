{
 "cells": [
  {
   "cell_type": "code",
   "execution_count": 11,
   "metadata": {},
   "outputs": [],
   "source": [
    "%reload_ext autoreload\n",
    "%autoreload 2\n",
    "# %matplotlib qt\n",
    "\n",
    "from time import time\n",
    "from tqdm import tqdm\n",
    "from pathlib import Path\n",
    "\n",
    "import numpy as np\n",
    "from matplotlib import pyplot as plt\n",
    "import matplotlib as mpl\n",
    "\n",
    "from cellector.utils import get_s2p_data, get_s2p_redcell, surround_filter, split_planes\n",
    "from cellector.roi_processor import RoiProcessor\n",
    "from cellector.features import in_vs_out, phase_correlation_zero, dot_product, compute_correlation, dot_product_array\n",
    "from cellector.filters import filter\n",
    "from cellector.gui import RedSelectionGUI"
   ]
  },
  {
   "cell_type": "code",
   "execution_count": 15,
   "metadata": {},
   "outputs": [],
   "source": [
    "# Gather suite2p data\n",
    "s2p_dir = Path(r\"C:\\Users\\Andrew\\Documents\\localData\\ATL027\\2023-07-28\\701\\suite2p\")\n",
    "stats, references = get_s2p_data(s2p_dir)\n",
    "red_s2p = get_s2p_redcell(s2p_dir)\n",
    "extra_features = {\"red_s2p\": red_s2p}\n",
    "\n",
    "# Create a redcell processing object\n",
    "rcp = RoiProcessor(stats, references, extra_features=extra_features)\n",
    "\n",
    "# Next step: \n",
    "# 1. Implement a saving method (and maybe a two way system for creating a red cell object ? from suite2p or from scratch)\n",
    "# 2. Visualization methods for optimizing the hyperparameters for preprocessing\n",
    "# 3. Implement an optimization method for phase_corr_eps? \n",
    "#    - Might just be as simple as the user inputing the maximum size ROI, and then measuring\n",
    "#      the average power for higher frequencies..."
   ]
  },
  {
   "cell_type": "code",
   "execution_count": 3,
   "metadata": {},
   "outputs": [],
   "source": [
    "gui = RedSelectionGUI(rcp)"
   ]
  },
  {
   "cell_type": "code",
   "execution_count": 23,
   "metadata": {},
   "outputs": [
    {
     "ename": "NameError",
     "evalue": "name 'self' is not defined",
     "output_type": "error",
     "traceback": [
      "\u001b[1;31m---------------------------------------------------------------------------\u001b[0m",
      "\u001b[1;31mNameError\u001b[0m                                 Traceback (most recent call last)",
      "Cell \u001b[1;32mIn[23], line 1\u001b[0m\n\u001b[1;32m----> 1\u001b[0m \u001b[38;5;28;01mclass\u001b[39;00m \u001b[38;5;21;01mTestClass\u001b[39;00m:\n\u001b[0;32m      2\u001b[0m     \u001b[38;5;28;01mdef\u001b[39;00m \u001b[38;5;21m__init__\u001b[39m(\u001b[38;5;28mself\u001b[39m):\n\u001b[0;32m      3\u001b[0m         \u001b[38;5;28mself\u001b[39m\u001b[38;5;241m.\u001b[39mfeatures \u001b[38;5;241m=\u001b[39m {}\n",
      "Cell \u001b[1;32mIn[23], line 15\u001b[0m, in \u001b[0;36mTestClass\u001b[1;34m()\u001b[0m\n\u001b[0;32m     11\u001b[0m \u001b[38;5;129m@feature\u001b[39m\n\u001b[0;32m     12\u001b[0m \u001b[38;5;28;01mdef\u001b[39;00m \u001b[38;5;21mage\u001b[39m(\u001b[38;5;28mself\u001b[39m):\n\u001b[0;32m     13\u001b[0m     \u001b[38;5;28;01mreturn\u001b[39;00m \u001b[38;5;241m21\u001b[39m\n\u001b[1;32m---> 15\u001b[0m \u001b[38;5;28;43mself\u001b[39;49m\u001b[38;5;241m.\u001b[39mcompute_features()\n",
      "\u001b[1;31mNameError\u001b[0m: name 'self' is not defined"
     ]
    }
   ],
   "source": [
    "class TestClass:\n",
    "    def __init__(self):\n",
    "        self.features = {}\n",
    "        self._feature_registry = []\n",
    "        self._register_features()\n",
    "        \n",
    "    @feature\n",
    "    def name(self):\n",
    "        return \"Andii\"\n",
    "    \n",
    "    @feature\n",
    "    def age(self):\n",
    "        return 21\n",
    "    \n",
    "    def compute_features()\n",
    "\n",
    "\n",
    "test = TestClass()\n",
    "print(test.features)\n"
   ]
  }
 ],
 "metadata": {
  "kernelspec": {
   "display_name": "vrAnalysis",
   "language": "python",
   "name": "python3"
  },
  "language_info": {
   "codemirror_mode": {
    "name": "ipython",
    "version": 3
   },
   "file_extension": ".py",
   "mimetype": "text/x-python",
   "name": "python",
   "nbconvert_exporter": "python",
   "pygments_lexer": "ipython3",
   "version": "3.9.19"
  }
 },
 "nbformat": 4,
 "nbformat_minor": 2
}
