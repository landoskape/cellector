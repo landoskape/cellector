{
 "cells": [
  {
   "cell_type": "code",
   "execution_count": 1,
   "metadata": {},
   "outputs": [],
   "source": [
    "%reload_ext autoreload\n",
    "%autoreload 2\n",
    "# %matplotlib qt\n",
    "\n",
    "from time import time\n",
    "from tqdm import tqdm\n",
    "from pathlib import Path\n",
    "\n",
    "import numpy as np\n",
    "from matplotlib import pyplot as plt\n",
    "import matplotlib as mpl\n",
    "\n",
    "from cellector.io import create_from_suite2p\n",
    "from cellector.gui import SelectionGUI"
   ]
  },
  {
   "cell_type": "code",
   "execution_count": 21,
   "metadata": {},
   "outputs": [],
   "source": [
    "# Next step: \n",
    "# 2. Visualization methods for optimizing the hyperparameters for preprocessing\n",
    "# 3. Implement an optimization method for phase_corr_eps? \n",
    "#    - Might just be as simple as the user inputing the maximum size ROI, and then measuring\n",
    "#      the average power for higher frequencies..."
   ]
  },
  {
   "cell_type": "code",
   "execution_count": 2,
   "metadata": {},
   "outputs": [],
   "source": [
    "s2p_dir = Path(r\"C:\\Users\\Andrew\\Documents\\test_cellector\\suite2p\")\n",
    "roi_processor = create_from_suite2p(s2p_dir, use_redcell=True, clear_existing=False)"
   ]
  },
  {
   "cell_type": "code",
   "execution_count": 20,
   "metadata": {},
   "outputs": [],
   "source": [
    "gui = SelectionGUI(roi_processor)"
   ]
  },
  {
   "cell_type": "code",
   "execution_count": 16,
   "metadata": {},
   "outputs": [
    {
     "name": "stdout",
     "output_type": "stream",
     "text": [
      "c:\\Users\\Andrew\\Documents\\GitHub\\red-cell-selector\n"
     ]
    },
    {
     "data": {
      "text/plain": [
       "WindowsPath('c:/Users/Andrew/Documents/GitHub/red-cell-selector/README.md')"
      ]
     },
     "execution_count": 16,
     "metadata": {},
     "output_type": "execute_result"
    }
   ],
   "source": [
    "import os\n",
    "import shutil\n",
    "\n",
    "print(os.getcwd())\n",
    "\n",
    "fname = Path(os.getcwd()) / \"README.md\"\n",
    "\n",
    "fname.rename(Path(os.getcwd()) / \"README.md\")"
   ]
  },
  {
   "cell_type": "code",
   "execution_count": null,
   "metadata": {},
   "outputs": [],
   "source": [
    "# TODO: Implement the equivalent of this function (probably compare other RedCell objects to one reference point)\n",
    "# def compareFeatureCutoffs(*vrexp, roundValue=None):\n",
    "#     features = [\n",
    "#         \"parametersRedS2P.minMaxCutoff\",\n",
    "#         \"parametersRedDotProduct.minMaxCutoff\",\n",
    "#         \"parametersRedPearson.minMaxCutoff\",\n",
    "#         \"parametersRedPhaseCorrelation.minMaxCutoff\",\n",
    "#     ]\n",
    "#     dfDict = {\"session\": [ses.sessionPrint() for ses in vrexp]}\n",
    "\n",
    "#     def getFeatName(name):\n",
    "#         cname = name[name.find(\"Red\") + 3 : name.find(\".\")]\n",
    "#         return cname  # cname+'_min', cname+'_max'\n",
    "\n",
    "#     for feat in features:\n",
    "#         dfDict[getFeatName(feat)] = [None] * len(vrexp)\n",
    "\n",
    "#     for idx, ses in enumerate(vrexp):\n",
    "#         for feat in features:\n",
    "#             cdata = ses.loadone(feat)\n",
    "#             if cdata.dtype == object and cdata.item() is None:\n",
    "#                 cdata = [None, None]\n",
    "#             else:\n",
    "#                 if roundValue is not None:\n",
    "#                     cdata = np.round(cdata, roundValue)\n",
    "#             dfDict[getFeatName(feat)][idx] = cdata\n",
    "\n",
    "#     print(pd.DataFrame(dfDict))\n",
    "#     return None"
   ]
  }
 ],
 "metadata": {
  "kernelspec": {
   "display_name": "vrAnalysis",
   "language": "python",
   "name": "python3"
  },
  "language_info": {
   "codemirror_mode": {
    "name": "ipython",
    "version": 3
   },
   "file_extension": ".py",
   "mimetype": "text/x-python",
   "name": "python",
   "nbconvert_exporter": "python",
   "pygments_lexer": "ipython3",
   "version": "3.9.19"
  }
 },
 "nbformat": 4,
 "nbformat_minor": 2
}
