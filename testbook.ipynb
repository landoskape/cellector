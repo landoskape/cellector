{
 "cells": [
  {
   "cell_type": "code",
   "execution_count": 1,
   "metadata": {},
   "outputs": [],
   "source": [
    "%reload_ext autoreload\n",
    "%autoreload 2\n",
    "# %matplotlib qt\n",
    "\n",
    "from time import time\n",
    "from tqdm import tqdm\n",
    "from pathlib import Path\n",
    "\n",
    "import numpy as np\n",
    "from matplotlib import pyplot as plt\n",
    "import matplotlib as mpl\n",
    "\n",
    "from cellector.io import create_from_suite2p\n",
    "from cellector.gui import SelectionGUI"
   ]
  },
  {
   "cell_type": "code",
   "execution_count": 21,
   "metadata": {},
   "outputs": [],
   "source": [
    "# Next step: \n",
    "# 2. Visualization methods for optimizing the hyperparameters for preprocessing\n",
    "# 3. Implement an optimization method for phase_corr_eps? \n",
    "#    - Might just be as simple as the user inputing the maximum size ROI, and then measuring\n",
    "#      the average power for higher frequencies..."
   ]
  },
  {
   "cell_type": "code",
   "execution_count": 2,
   "metadata": {},
   "outputs": [],
   "source": [
    "s2p_dir = Path(r\"C:\\Users\\Andrew\\Documents\\test_cellector\\suite2p\")\n",
    "roi_processor = create_from_suite2p(s2p_dir, use_redcell=True, clear_existing=False)"
   ]
  },
  {
   "cell_type": "code",
   "execution_count": 20,
   "metadata": {},
   "outputs": [],
   "source": [
    "gui = SelectionGUI(roi_processor)"
   ]
  },
  {
   "cell_type": "code",
   "execution_count": null,
   "metadata": {},
   "outputs": [],
   "source": [
    "\n",
    "\n",
    "# # Hyperparameter Choices:\n",
    "# So far the only hyperparameters I'm aware of are filtering parameters, and the eps value for\n",
    "# phase correlation measurements (which is weirdly high...?). I think it would be good to do \n",
    "# some hyperparameter optimization for these, which a user could manually supervise themselves\n",
    "# with some labelling. For example, the user could open a GUI that compares masks with reference\n",
    "# images for some sample \"true\" data and in addition for any data they've loaded in. The GUI might\n",
    "# look something like follows:\n",
    "# 1. For a particular set of hyperparameters (filtering, for example), the user could get a histogram\n",
    "# of feature values for all the features for all the masks. They could use cutoff lines to pick a range\n",
    "# of feature values for that particular set of hyperparameters, and then scroll through mask matches\n",
    "# that come from within that range. This way, they could determine how the hyperparameters affect the\n",
    "# feature values at each part of the distribution and select hyperparameters that give good separation.\n"
   ]
  }
 ],
 "metadata": {
  "kernelspec": {
   "display_name": "vrAnalysis",
   "language": "python",
   "name": "python3"
  },
  "language_info": {
   "codemirror_mode": {
    "name": "ipython",
    "version": 3
   },
   "file_extension": ".py",
   "mimetype": "text/x-python",
   "name": "python",
   "nbconvert_exporter": "python",
   "pygments_lexer": "ipython3",
   "version": "3.9.19"
  }
 },
 "nbformat": 4,
 "nbformat_minor": 2
}
